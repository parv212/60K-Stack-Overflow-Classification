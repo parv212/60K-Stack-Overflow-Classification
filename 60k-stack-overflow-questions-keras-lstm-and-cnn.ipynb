{
 "cells": [
  {
   "cell_type": "markdown",
   "metadata": {
    "papermill": {
     "duration": 0.03043,
     "end_time": "2022-04-26T11:45:10.306973",
     "exception": false,
     "start_time": "2022-04-26T11:45:10.276543",
     "status": "completed"
    },
    "tags": []
   },
   "source": [
    "# **Import Libraries**"
   ]
  },
  {
   "cell_type": "code",
   "execution_count": 1,
   "metadata": {
    "_cell_guid": "b1076dfc-b9ad-4769-8c92-a6c4dae69d19",
    "_kg_hide-input": true,
    "_kg_hide-output": true,
    "_uuid": "8f2839f25d086af736a60e9eeb907d3b93b6e0e5",
    "execution": {
     "iopub.execute_input": "2022-04-26T11:45:10.372390Z",
     "iopub.status.busy": "2022-04-26T11:45:10.371740Z",
     "iopub.status.idle": "2022-04-26T11:45:17.524314Z",
     "shell.execute_reply": "2022-04-26T11:45:17.524805Z",
     "shell.execute_reply.started": "2022-04-26T11:25:04.472240Z"
    },
    "papermill": {
     "duration": 7.189799,
     "end_time": "2022-04-26T11:45:17.524993",
     "exception": false,
     "start_time": "2022-04-26T11:45:10.335194",
     "status": "completed"
    },
    "tags": []
   },
   "outputs": [
    {
     "name": "stderr",
     "output_type": "stream",
     "text": [
      "/opt/conda/lib/python3.7/site-packages/sklearn/utils/deprecation.py:143: FutureWarning: The sklearn.metrics.classification module is  deprecated in version 0.22 and will be removed in version 0.24. The corresponding classes / functions should instead be imported from sklearn.metrics. Anything that cannot be imported from sklearn.metrics is now part of the private API.\n",
      "  warnings.warn(message, FutureWarning)\n"
     ]
    }
   ],
   "source": [
    "import numpy as np # linear algebra\n",
    "import pandas as pd # data processing, CSV file I/O (e.g. pd.read_csv)\n",
    "from bs4 import BeautifulSoup\n",
    "import matplotlib.pyplot as plt\n",
    "\n",
    "import tensorflow as tf\n",
    "\n",
    "from tensorflow.keras import layers\n",
    "from tensorflow.keras.optimizers import Adam\n",
    "from tensorflow.keras.models import Model\n",
    "from tensorflow.keras.callbacks import ModelCheckpoint\n",
    "from keras.utils import np_utils\n",
    "from sklearn.preprocessing import LabelEncoder\n",
    "from tensorflow.keras.preprocessing import text\n",
    "from sklearn.metrics import classification_report\n",
    "\n",
    "from tqdm.notebook import tqdm\n",
    "from tokenizers import Tokenizer, models, pre_tokenizers, decoders, processors\n",
    "from tensorflow.keras.callbacks import ReduceLROnPlateau, EarlyStopping\n",
    "from sklearn.feature_extraction.text import CountVectorizer\n",
    "from yellowbrick.style import set_palette\n",
    "from yellowbrick.text import FreqDistVisualizer"
   ]
  },
  {
   "cell_type": "code",
   "execution_count": 2,
   "metadata": {
    "execution": {
     "iopub.execute_input": "2022-04-26T11:45:19.157923Z",
     "iopub.status.busy": "2022-04-26T11:45:19.157294Z",
     "iopub.status.idle": "2022-04-26T11:45:19.163564Z",
     "shell.execute_reply": "2022-04-26T11:45:19.162592Z",
     "shell.execute_reply.started": "2022-04-26T11:25:58.492579Z"
    },
    "papermill": {
     "duration": 1.609543,
     "end_time": "2022-04-26T11:45:19.163675",
     "exception": false,
     "start_time": "2022-04-26T11:45:17.554132",
     "status": "completed"
    },
    "tags": []
   },
   "outputs": [
    {
     "data": {
      "text/plain": [
       "'/device:GPU:0'"
      ]
     },
     "execution_count": 2,
     "metadata": {},
     "output_type": "execute_result"
    }
   ],
   "source": [
    "tf.test.gpu_device_name()"
   ]
  },
  {
   "cell_type": "code",
   "execution_count": 3,
   "metadata": {
    "_cell_guid": "79c7e3d0-c299-4dcb-8224-4455121ee9b0",
    "_uuid": "d629ff2d2480ee46fbb7e2d37f6b5fab8052498a",
    "execution": {
     "iopub.execute_input": "2022-04-26T11:45:19.231469Z",
     "iopub.status.busy": "2022-04-26T11:45:19.230937Z",
     "iopub.status.idle": "2022-04-26T11:45:20.785193Z",
     "shell.execute_reply": "2022-04-26T11:45:20.784255Z",
     "shell.execute_reply.started": "2022-04-26T11:26:02.220575Z"
    },
    "papermill": {
     "duration": 1.593223,
     "end_time": "2022-04-26T11:45:20.785353",
     "exception": false,
     "start_time": "2022-04-26T11:45:19.192130",
     "status": "completed"
    },
    "tags": []
   },
   "outputs": [],
   "source": [
    "train = pd.read_csv('../input/60k-stack-overflow-questions-with-quality-rate/train.csv')\n",
    "validation = pd.read_csv('../input/60k-stack-overflow-questions-with-quality-rate/valid.csv')"
   ]
  },
  {
   "cell_type": "code",
   "execution_count": 4,
   "metadata": {
    "execution": {
     "iopub.execute_input": "2022-04-26T11:45:20.856818Z",
     "iopub.status.busy": "2022-04-26T11:45:20.856290Z",
     "iopub.status.idle": "2022-04-26T11:45:20.867142Z",
     "shell.execute_reply": "2022-04-26T11:45:20.866585Z",
     "shell.execute_reply.started": "2022-04-26T11:26:04.887450Z"
    },
    "papermill": {
     "duration": 0.050895,
     "end_time": "2022-04-26T11:45:20.867254",
     "exception": false,
     "start_time": "2022-04-26T11:45:20.816359",
     "status": "completed"
    },
    "tags": []
   },
   "outputs": [
    {
     "data": {
      "text/html": [
       "<div>\n",
       "<style scoped>\n",
       "    .dataframe tbody tr th:only-of-type {\n",
       "        vertical-align: middle;\n",
       "    }\n",
       "\n",
       "    .dataframe tbody tr th {\n",
       "        vertical-align: top;\n",
       "    }\n",
       "\n",
       "    .dataframe thead th {\n",
       "        text-align: right;\n",
       "    }\n",
       "</style>\n",
       "<table border=\"1\" class=\"dataframe\">\n",
       "  <thead>\n",
       "    <tr style=\"text-align: right;\">\n",
       "      <th></th>\n",
       "      <th>Id</th>\n",
       "      <th>Title</th>\n",
       "      <th>Body</th>\n",
       "      <th>Tags</th>\n",
       "      <th>CreationDate</th>\n",
       "      <th>Y</th>\n",
       "    </tr>\n",
       "  </thead>\n",
       "  <tbody>\n",
       "    <tr>\n",
       "      <th>0</th>\n",
       "      <td>34552656</td>\n",
       "      <td>Java: Repeat Task Every Random Seconds</td>\n",
       "      <td>&lt;p&gt;I'm already familiar with repeating tasks e...</td>\n",
       "      <td>&lt;java&gt;&lt;repeat&gt;</td>\n",
       "      <td>2016-01-01 00:21:59</td>\n",
       "      <td>LQ_CLOSE</td>\n",
       "    </tr>\n",
       "    <tr>\n",
       "      <th>1</th>\n",
       "      <td>34553034</td>\n",
       "      <td>Why are Java Optionals immutable?</td>\n",
       "      <td>&lt;p&gt;I'd like to understand why Java 8 Optionals...</td>\n",
       "      <td>&lt;java&gt;&lt;optional&gt;</td>\n",
       "      <td>2016-01-01 02:03:20</td>\n",
       "      <td>HQ</td>\n",
       "    </tr>\n",
       "    <tr>\n",
       "      <th>2</th>\n",
       "      <td>34553174</td>\n",
       "      <td>Text Overlay Image with Darkened Opacity React...</td>\n",
       "      <td>&lt;p&gt;I am attempting to overlay a title over an ...</td>\n",
       "      <td>&lt;javascript&gt;&lt;image&gt;&lt;overlay&gt;&lt;react-native&gt;&lt;opa...</td>\n",
       "      <td>2016-01-01 02:48:24</td>\n",
       "      <td>HQ</td>\n",
       "    </tr>\n",
       "    <tr>\n",
       "      <th>3</th>\n",
       "      <td>34553318</td>\n",
       "      <td>Why ternary operator in swift is so picky?</td>\n",
       "      <td>&lt;p&gt;The question is very simple, but I just cou...</td>\n",
       "      <td>&lt;swift&gt;&lt;operators&gt;&lt;whitespace&gt;&lt;ternary-operato...</td>\n",
       "      <td>2016-01-01 03:30:17</td>\n",
       "      <td>HQ</td>\n",
       "    </tr>\n",
       "    <tr>\n",
       "      <th>4</th>\n",
       "      <td>34553755</td>\n",
       "      <td>hide/show fab with scale animation</td>\n",
       "      <td>&lt;p&gt;I'm using custom floatingactionmenu. I need...</td>\n",
       "      <td>&lt;android&gt;&lt;material-design&gt;&lt;floating-action-but...</td>\n",
       "      <td>2016-01-01 05:21:48</td>\n",
       "      <td>HQ</td>\n",
       "    </tr>\n",
       "  </tbody>\n",
       "</table>\n",
       "</div>"
      ],
      "text/plain": [
       "         Id                                              Title  \\\n",
       "0  34552656             Java: Repeat Task Every Random Seconds   \n",
       "1  34553034                  Why are Java Optionals immutable?   \n",
       "2  34553174  Text Overlay Image with Darkened Opacity React...   \n",
       "3  34553318         Why ternary operator in swift is so picky?   \n",
       "4  34553755                 hide/show fab with scale animation   \n",
       "\n",
       "                                                Body  \\\n",
       "0  <p>I'm already familiar with repeating tasks e...   \n",
       "1  <p>I'd like to understand why Java 8 Optionals...   \n",
       "2  <p>I am attempting to overlay a title over an ...   \n",
       "3  <p>The question is very simple, but I just cou...   \n",
       "4  <p>I'm using custom floatingactionmenu. I need...   \n",
       "\n",
       "                                                Tags         CreationDate  \\\n",
       "0                                     <java><repeat>  2016-01-01 00:21:59   \n",
       "1                                   <java><optional>  2016-01-01 02:03:20   \n",
       "2  <javascript><image><overlay><react-native><opa...  2016-01-01 02:48:24   \n",
       "3  <swift><operators><whitespace><ternary-operato...  2016-01-01 03:30:17   \n",
       "4  <android><material-design><floating-action-but...  2016-01-01 05:21:48   \n",
       "\n",
       "          Y  \n",
       "0  LQ_CLOSE  \n",
       "1        HQ  \n",
       "2        HQ  \n",
       "3        HQ  \n",
       "4        HQ  "
      ]
     },
     "execution_count": 4,
     "metadata": {},
     "output_type": "execute_result"
    }
   ],
   "source": [
    "train.head(5)"
   ]
  },
  {
   "cell_type": "markdown",
   "metadata": {
    "papermill": {
     "duration": 0.028738,
     "end_time": "2022-04-26T11:45:20.924923",
     "exception": false,
     "start_time": "2022-04-26T11:45:20.896185",
     "status": "completed"
    },
    "tags": []
   },
   "source": [
    "# **Target Variable**\n",
    "\n",
    "We have a multiclass problem with 3 classes. Classes looks balanced."
   ]
  },
  {
   "cell_type": "code",
   "execution_count": 5,
   "metadata": {
    "execution": {
     "iopub.execute_input": "2022-04-26T11:45:20.997174Z",
     "iopub.status.busy": "2022-04-26T11:45:20.996612Z",
     "iopub.status.idle": "2022-04-26T11:45:21.163557Z",
     "shell.execute_reply": "2022-04-26T11:45:21.162848Z",
     "shell.execute_reply.started": "2022-04-26T11:26:08.224180Z"
    },
    "papermill": {
     "duration": 0.210267,
     "end_time": "2022-04-26T11:45:21.163666",
     "exception": false,
     "start_time": "2022-04-26T11:45:20.953399",
     "status": "completed"
    },
    "tags": []
   },
   "outputs": [
    {
     "data": {
      "text/plain": [
       "<matplotlib.axes._subplots.AxesSubplot at 0x7f7e1811f450>"
      ]
     },
     "execution_count": 5,
     "metadata": {},
     "output_type": "execute_result"
    },
    {
     "data": {
      "image/png": "[encoded data removed]",
      "text/plain": [
       "<Figure size 576x396 with 1 Axes>"
      ]
     },
     "metadata": {},
     "output_type": "display_data"
    }
   ],
   "source": [
    "train.Y.value_counts().plot.bar()"
   ]
  },
  {
   "cell_type": "markdown",
   "metadata": {
    "papermill": {
     "duration": 0.031455,
     "end_time": "2022-04-26T11:45:21.225816",
     "exception": false,
     "start_time": "2022-04-26T11:45:21.194361",
     "status": "completed"
    },
    "tags": []
   },
   "source": [
    "# **HTML To Text**\n",
    "\n",
    "Let's convert data from html to text using BeautifulSoup python module. This will remove special html tags as shown below Body and Text columns."
   ]
  },
  {
   "cell_type": "code",
   "execution_count": 6,
   "metadata": {
    "_kg_hide-input": true,
    "execution": {
     "iopub.execute_input": "2022-04-26T11:45:21.294780Z",
     "iopub.status.busy": "2022-04-26T11:45:21.293674Z",
     "iopub.status.idle": "2022-04-26T11:45:41.269107Z",
     "shell.execute_reply": "2022-04-26T11:45:41.269525Z",
     "shell.execute_reply.started": "2022-04-26T11:26:11.459898Z"
    },
    "papermill": {
     "duration": 20.012541,
     "end_time": "2022-04-26T11:45:41.269668",
     "exception": false,
     "start_time": "2022-04-26T11:45:21.257127",
     "status": "completed"
    },
    "tags": []
   },
   "outputs": [
    {
     "data": {
      "text/html": [
       "<div>\n",
       "<style scoped>\n",
       "    .dataframe tbody tr th:only-of-type {\n",
       "        vertical-align: middle;\n",
       "    }\n",
       "\n",
       "    .dataframe tbody tr th {\n",
       "        vertical-align: top;\n",
       "    }\n",
       "\n",
       "    .dataframe thead th {\n",
       "        text-align: right;\n",
       "    }\n",
       "</style>\n",
       "<table border=\"1\" class=\"dataframe\">\n",
       "  <thead>\n",
       "    <tr style=\"text-align: right;\">\n",
       "      <th></th>\n",
       "      <th>Id</th>\n",
       "      <th>Title</th>\n",
       "      <th>Body</th>\n",
       "      <th>Tags</th>\n",
       "      <th>CreationDate</th>\n",
       "      <th>Y</th>\n",
       "      <th>Text</th>\n",
       "    </tr>\n",
       "  </thead>\n",
       "  <tbody>\n",
       "    <tr>\n",
       "      <th>0</th>\n",
       "      <td>34552656</td>\n",
       "      <td>Java: Repeat Task Every Random Seconds</td>\n",
       "      <td>&lt;p&gt;I'm already familiar with repeating tasks e...</td>\n",
       "      <td>&lt;java&gt;&lt;repeat&gt;</td>\n",
       "      <td>2016-01-01 00:21:59</td>\n",
       "      <td>LQ_CLOSE</td>\n",
       "      <td>I'm already familiar with repeating tasks ever...</td>\n",
       "    </tr>\n",
       "    <tr>\n",
       "      <th>1</th>\n",
       "      <td>34553034</td>\n",
       "      <td>Why are Java Optionals immutable?</td>\n",
       "      <td>&lt;p&gt;I'd like to understand why Java 8 Optionals...</td>\n",
       "      <td>&lt;java&gt;&lt;optional&gt;</td>\n",
       "      <td>2016-01-01 02:03:20</td>\n",
       "      <td>HQ</td>\n",
       "      <td>I'd like to understand why Java 8 Optionals we...</td>\n",
       "    </tr>\n",
       "    <tr>\n",
       "      <th>2</th>\n",
       "      <td>34553174</td>\n",
       "      <td>Text Overlay Image with Darkened Opacity React...</td>\n",
       "      <td>&lt;p&gt;I am attempting to overlay a title over an ...</td>\n",
       "      <td>&lt;javascript&gt;&lt;image&gt;&lt;overlay&gt;&lt;react-native&gt;&lt;opa...</td>\n",
       "      <td>2016-01-01 02:48:24</td>\n",
       "      <td>HQ</td>\n",
       "      <td>I am attempting to overlay a title over an ima...</td>\n",
       "    </tr>\n",
       "    <tr>\n",
       "      <th>3</th>\n",
       "      <td>34553318</td>\n",
       "      <td>Why ternary operator in swift is so picky?</td>\n",
       "      <td>&lt;p&gt;The question is very simple, but I just cou...</td>\n",
       "      <td>&lt;swift&gt;&lt;operators&gt;&lt;whitespace&gt;&lt;ternary-operato...</td>\n",
       "      <td>2016-01-01 03:30:17</td>\n",
       "      <td>HQ</td>\n",
       "      <td>The question is very simple, but I just could ...</td>\n",
       "    </tr>\n",
       "    <tr>\n",
       "      <th>4</th>\n",
       "      <td>34553755</td>\n",
       "      <td>hide/show fab with scale animation</td>\n",
       "      <td>&lt;p&gt;I'm using custom floatingactionmenu. I need...</td>\n",
       "      <td>&lt;android&gt;&lt;material-design&gt;&lt;floating-action-but...</td>\n",
       "      <td>2016-01-01 05:21:48</td>\n",
       "      <td>HQ</td>\n",
       "      <td>I'm using custom floatingactionmenu. I need to...</td>\n",
       "    </tr>\n",
       "  </tbody>\n",
       "</table>\n",
       "</div>"
      ],
      "text/plain": [
       "         Id                                              Title  \\\n",
       "0  34552656             Java: Repeat Task Every Random Seconds   \n",
       "1  34553034                  Why are Java Optionals immutable?   \n",
       "2  34553174  Text Overlay Image with Darkened Opacity React...   \n",
       "3  34553318         Why ternary operator in swift is so picky?   \n",
       "4  34553755                 hide/show fab with scale animation   \n",
       "\n",
       "                                                Body  \\\n",
       "0  <p>I'm already familiar with repeating tasks e...   \n",
       "1  <p>I'd like to understand why Java 8 Optionals...   \n",
       "2  <p>I am attempting to overlay a title over an ...   \n",
       "3  <p>The question is very simple, but I just cou...   \n",
       "4  <p>I'm using custom floatingactionmenu. I need...   \n",
       "\n",
       "                                                Tags         CreationDate  \\\n",
       "0                                     <java><repeat>  2016-01-01 00:21:59   \n",
       "1                                   <java><optional>  2016-01-01 02:03:20   \n",
       "2  <javascript><image><overlay><react-native><opa...  2016-01-01 02:48:24   \n",
       "3  <swift><operators><whitespace><ternary-operato...  2016-01-01 03:30:17   \n",
       "4  <android><material-design><floating-action-but...  2016-01-01 05:21:48   \n",
       "\n",
       "          Y                                               Text  \n",
       "0  LQ_CLOSE  I'm already familiar with repeating tasks ever...  \n",
       "1        HQ  I'd like to understand why Java 8 Optionals we...  \n",
       "2        HQ  I am attempting to overlay a title over an ima...  \n",
       "3        HQ  The question is very simple, but I just could ...  \n",
       "4        HQ  I'm using custom floatingactionmenu. I need to...  "
      ]
     },
     "execution_count": 6,
     "metadata": {},
     "output_type": "execute_result"
    }
   ],
   "source": [
    "train['Text']=train.Body.apply(lambda x: BeautifulSoup(x, 'html.parser').text)\n",
    "validation['Text']=validation.Body.apply(lambda x: BeautifulSoup(x, 'html.parser').text)\n",
    "train.head(5)"
   ]
  },
  {
   "cell_type": "markdown",
   "metadata": {
    "papermill": {
     "duration": 0.030181,
     "end_time": "2022-04-26T11:45:41.330040",
     "exception": false,
     "start_time": "2022-04-26T11:45:41.299859",
     "status": "completed"
    },
    "tags": []
   },
   "source": [
    "# **Lower Case The Text**"
   ]
  },
  {
   "cell_type": "code",
   "execution_count": 7,
   "metadata": {
    "execution": {
     "iopub.execute_input": "2022-04-26T11:45:41.401484Z",
     "iopub.status.busy": "2022-04-26T11:45:41.400743Z",
     "iopub.status.idle": "2022-04-26T11:45:41.526106Z",
     "shell.execute_reply": "2022-04-26T11:45:41.526539Z",
     "shell.execute_reply.started": "2022-04-26T11:26:32.196280Z"
    },
    "papermill": {
     "duration": 0.16671,
     "end_time": "2022-04-26T11:45:41.526669",
     "exception": false,
     "start_time": "2022-04-26T11:45:41.359959",
     "status": "completed"
    },
    "tags": []
   },
   "outputs": [
    {
     "data": {
      "text/html": [
       "<div>\n",
       "<style scoped>\n",
       "    .dataframe tbody tr th:only-of-type {\n",
       "        vertical-align: middle;\n",
       "    }\n",
       "\n",
       "    .dataframe tbody tr th {\n",
       "        vertical-align: top;\n",
       "    }\n",
       "\n",
       "    .dataframe thead th {\n",
       "        text-align: right;\n",
       "    }\n",
       "</style>\n",
       "<table border=\"1\" class=\"dataframe\">\n",
       "  <thead>\n",
       "    <tr style=\"text-align: right;\">\n",
       "      <th></th>\n",
       "      <th>Id</th>\n",
       "      <th>Title</th>\n",
       "      <th>Body</th>\n",
       "      <th>Tags</th>\n",
       "      <th>CreationDate</th>\n",
       "      <th>Y</th>\n",
       "      <th>Text</th>\n",
       "    </tr>\n",
       "  </thead>\n",
       "  <tbody>\n",
       "    <tr>\n",
       "      <th>0</th>\n",
       "      <td>34552656</td>\n",
       "      <td>Java: Repeat Task Every Random Seconds</td>\n",
       "      <td>&lt;p&gt;I'm already familiar with repeating tasks e...</td>\n",
       "      <td>&lt;java&gt;&lt;repeat&gt;</td>\n",
       "      <td>2016-01-01 00:21:59</td>\n",
       "      <td>LQ_CLOSE</td>\n",
       "      <td>i'm already familiar with repeating tasks ever...</td>\n",
       "    </tr>\n",
       "    <tr>\n",
       "      <th>1</th>\n",
       "      <td>34553034</td>\n",
       "      <td>Why are Java Optionals immutable?</td>\n",
       "      <td>&lt;p&gt;I'd like to understand why Java 8 Optionals...</td>\n",
       "      <td>&lt;java&gt;&lt;optional&gt;</td>\n",
       "      <td>2016-01-01 02:03:20</td>\n",
       "      <td>HQ</td>\n",
       "      <td>i'd like to understand why java 8 optionals we...</td>\n",
       "    </tr>\n",
       "    <tr>\n",
       "      <th>2</th>\n",
       "      <td>34553174</td>\n",
       "      <td>Text Overlay Image with Darkened Opacity React...</td>\n",
       "      <td>&lt;p&gt;I am attempting to overlay a title over an ...</td>\n",
       "      <td>&lt;javascript&gt;&lt;image&gt;&lt;overlay&gt;&lt;react-native&gt;&lt;opa...</td>\n",
       "      <td>2016-01-01 02:48:24</td>\n",
       "      <td>HQ</td>\n",
       "      <td>i am attempting to overlay a title over an ima...</td>\n",
       "    </tr>\n",
       "    <tr>\n",
       "      <th>3</th>\n",
       "      <td>34553318</td>\n",
       "      <td>Why ternary operator in swift is so picky?</td>\n",
       "      <td>&lt;p&gt;The question is very simple, but I just cou...</td>\n",
       "      <td>&lt;swift&gt;&lt;operators&gt;&lt;whitespace&gt;&lt;ternary-operato...</td>\n",
       "      <td>2016-01-01 03:30:17</td>\n",
       "      <td>HQ</td>\n",
       "      <td>the question is very simple, but i just could ...</td>\n",
       "    </tr>\n",
       "    <tr>\n",
       "      <th>4</th>\n",
       "      <td>34553755</td>\n",
       "      <td>hide/show fab with scale animation</td>\n",
       "      <td>&lt;p&gt;I'm using custom floatingactionmenu. I need...</td>\n",
       "      <td>&lt;android&gt;&lt;material-design&gt;&lt;floating-action-but...</td>\n",
       "      <td>2016-01-01 05:21:48</td>\n",
       "      <td>HQ</td>\n",
       "      <td>i'm using custom floatingactionmenu. i need to...</td>\n",
       "    </tr>\n",
       "  </tbody>\n",
       "</table>\n",
       "</div>"
      ],
      "text/plain": [
       "         Id                                              Title  \\\n",
       "0  34552656             Java: Repeat Task Every Random Seconds   \n",
       "1  34553034                  Why are Java Optionals immutable?   \n",
       "2  34553174  Text Overlay Image with Darkened Opacity React...   \n",
       "3  34553318         Why ternary operator in swift is so picky?   \n",
       "4  34553755                 hide/show fab with scale animation   \n",
       "\n",
       "                                                Body  \\\n",
       "0  <p>I'm already familiar with repeating tasks e...   \n",
       "1  <p>I'd like to understand why Java 8 Optionals...   \n",
       "2  <p>I am attempting to overlay a title over an ...   \n",
       "3  <p>The question is very simple, but I just cou...   \n",
       "4  <p>I'm using custom floatingactionmenu. I need...   \n",
       "\n",
       "                                                Tags         CreationDate  \\\n",
       "0                                     <java><repeat>  2016-01-01 00:21:59   \n",
       "1                                   <java><optional>  2016-01-01 02:03:20   \n",
       "2  <javascript><image><overlay><react-native><opa...  2016-01-01 02:48:24   \n",
       "3  <swift><operators><whitespace><ternary-operato...  2016-01-01 03:30:17   \n",
       "4  <android><material-design><floating-action-but...  2016-01-01 05:21:48   \n",
       "\n",
       "          Y                                               Text  \n",
       "0  LQ_CLOSE  i'm already familiar with repeating tasks ever...  \n",
       "1        HQ  i'd like to understand why java 8 optionals we...  \n",
       "2        HQ  i am attempting to overlay a title over an ima...  \n",
       "3        HQ  the question is very simple, but i just could ...  \n",
       "4        HQ  i'm using custom floatingactionmenu. i need to...  "
      ]
     },
     "execution_count": 7,
     "metadata": {},
     "output_type": "execute_result"
    }
   ],
   "source": [
    "train['Text']=train['Text'].str.lower()\n",
    "validation['Text']=validation['Text'].str.lower()\n",
    "train.head(5)"
   ]
  },
  {
   "cell_type": "markdown",
   "metadata": {
    "papermill": {
     "duration": 0.03113,
     "end_time": "2022-04-26T11:45:41.589916",
     "exception": false,
     "start_time": "2022-04-26T11:45:41.558786",
     "status": "completed"
    },
    "tags": []
   },
   "source": [
    "# **Document Word Counts Distribution**"
   ]
  },
  {
   "cell_type": "code",
   "execution_count": 8,
   "metadata": {
    "execution": {
     "iopub.execute_input": "2022-04-26T11:45:41.655803Z",
     "iopub.status.busy": "2022-04-26T11:45:41.655014Z",
     "iopub.status.idle": "2022-04-26T11:45:41.657610Z",
     "shell.execute_reply": "2022-04-26T11:45:41.658038Z",
     "shell.execute_reply.started": "2022-04-26T11:26:32.339948Z"
    },
    "papermill": {
     "duration": 0.037329,
     "end_time": "2022-04-26T11:45:41.658169",
     "exception": false,
     "start_time": "2022-04-26T11:45:41.620840",
     "status": "completed"
    },
    "tags": []
   },
   "outputs": [],
   "source": [
    "MAX_FEATURES = 20000\n",
    "MAX_LEN = 200"
   ]
  },
  {
   "cell_type": "code",
   "execution_count": 9,
   "metadata": {
    "_kg_hide-input": true,
    "execution": {
     "iopub.execute_input": "2022-04-26T11:45:41.781314Z",
     "iopub.status.busy": "2022-04-26T11:45:41.759921Z",
     "iopub.status.idle": "2022-04-26T11:45:52.792461Z",
     "shell.execute_reply": "2022-04-26T11:45:52.793078Z",
     "shell.execute_reply.started": "2022-04-26T11:26:32.349130Z"
    },
    "papermill": {
     "duration": 11.104076,
     "end_time": "2022-04-26T11:45:52.793252",
     "exception": false,
     "start_time": "2022-04-26T11:45:41.689176",
     "status": "completed"
    },
    "tags": []
   },
   "outputs": [
    {
     "data": {
      "image/png": "[encoded data removed]",
      "text/plain": [
       "<Figure size 1440x360 with 1 Axes>"
      ]
     },
     "metadata": {},
     "output_type": "display_data"
    },
    {
     "name": "stdout",
     "output_type": "stream",
     "text": [
      "max length: 5412 / min length: 0 / mean length: 106 / limit length: 200\n"
     ]
    }
   ],
   "source": [
    "X=train['Text'].values\n",
    "\n",
    "plt.style.use('seaborn')\n",
    "\n",
    "tokenizer = tf.keras.preprocessing.text.Tokenizer(num_words=MAX_FEATURES)\n",
    "tokenizer.fit_on_texts(X)\n",
    "sequences = tokenizer.texts_to_sequences(X)\n",
    "\n",
    "word_index = tokenizer.word_index\n",
    "\n",
    "result = [len(x.split()) for x in X]\n",
    "\n",
    "\n",
    "plt.figure(figsize=(20,5))\n",
    "plt.title('Document size')\n",
    "plt.hist(result, 200, density=False, range=(0,np.max(result)))\n",
    "plt.show()\n",
    "\n",
    "\n",
    "print('max length: %i / min length: %i / mean length: %i / limit length: %i' % (np.max(result), np.min(result), np.mean(result), MAX_LEN))\n"
   ]
  },
  {
   "cell_type": "markdown",
   "metadata": {
    "papermill": {
     "duration": 0.03108,
     "end_time": "2022-04-26T11:45:52.856927",
     "exception": false,
     "start_time": "2022-04-26T11:45:52.825847",
     "status": "completed"
    },
    "tags": []
   },
   "source": [
    "# **Token Frequency Distribution**"
   ]
  },
  {
   "cell_type": "code",
   "execution_count": 10,
   "metadata": {
    "_kg_hide-input": true,
    "execution": {
     "iopub.execute_input": "2022-04-26T11:45:52.963845Z",
     "iopub.status.busy": "2022-04-26T11:45:52.948241Z",
     "iopub.status.idle": "2022-04-26T11:45:59.782242Z",
     "shell.execute_reply": "2022-04-26T11:45:59.782673Z",
     "shell.execute_reply.started": "2022-04-26T11:27:06.069532Z"
    },
    "papermill": {
     "duration": 6.894644,
     "end_time": "2022-04-26T11:45:59.782801",
     "exception": false,
     "start_time": "2022-04-26T11:45:52.888157",
     "status": "completed"
    },
    "tags": []
   },
   "outputs": [
    {
     "name": "stderr",
     "output_type": "stream",
     "text": [
      "/opt/conda/lib/python3.7/site-packages/yellowbrick/text/freqdist.py:268: MatplotlibDeprecationWarning: Using a string of single character colors as a color sequence is deprecated. Use an explicit list instead.\n",
      "  self.ax.bar(bins, freq, label=label, color=self.color, align=\"edge\")\n"
     ]
    },
    {
     "data": {
      "image/png": "[encoded data removed]",
      "text/plain": [
       "<Figure size 576x396 with 1 Axes>"
      ]
     },
     "metadata": {},
     "output_type": "display_data"
    },
    {
     "data": {
      "text/plain": [
       "<matplotlib.axes._subplots.AxesSubplot at 0x7f7dfc590c10>"
      ]
     },
     "execution_count": 10,
     "metadata": {},
     "output_type": "execute_result"
    }
   ],
   "source": [
    "vectorizer = CountVectorizer()\n",
    "docs       = vectorizer.fit_transform(X)\n",
    "features   = vectorizer.get_feature_names()\n",
    "\n",
    "visualizer = FreqDistVisualizer(features=features, orient='v',color='rb')\n",
    "visualizer.fit(docs)\n",
    "visualizer.show()"
   ]
  },
  {
   "cell_type": "markdown",
   "metadata": {
    "papermill": {
     "duration": 0.037134,
     "end_time": "2022-04-26T11:45:59.855012",
     "exception": false,
     "start_time": "2022-04-26T11:45:59.817878",
     "status": "completed"
    },
    "tags": []
   },
   "source": [
    "### Simple Text Correlation Test with Title"
   ]
  },
  {
   "cell_type": "code",
   "execution_count": 11,
   "metadata": {
    "execution": {
     "iopub.execute_input": "2022-04-26T11:45:59.987271Z",
     "iopub.status.busy": "2022-04-26T11:45:59.986381Z",
     "iopub.status.idle": "2022-04-26T11:46:38.288981Z",
     "shell.execute_reply": "2022-04-26T11:46:38.288431Z"
    },
    "papermill": {
     "duration": 38.373982,
     "end_time": "2022-04-26T11:46:38.289101",
     "exception": false,
     "start_time": "2022-04-26T11:45:59.915119",
     "status": "completed"
    },
    "tags": []
   },
   "outputs": [],
   "source": [
    "text_df = train[['Title','Y']].sample(frac=0.1)\n",
    "codes, uniques = pd.factorize(text_df.Y)\n",
    "text_df['Y'] = codes\n",
    "text_df['Title'] = text_df.Title.str.replace('\\(|\\)|,|\\.|\\\"','')\n",
    "s_corr = text_df.Title.str.lower().str.get_dummies(sep=' ').corrwith(text_df.Y/text_df.Y.max())"
   ]
  },
  {
   "cell_type": "code",
   "execution_count": 12,
   "metadata": {
    "execution": {
     "iopub.execute_input": "2022-04-26T11:46:38.361302Z",
     "iopub.status.busy": "2022-04-26T11:46:38.360507Z",
     "iopub.status.idle": "2022-04-26T11:46:38.368006Z",
     "shell.execute_reply": "2022-04-26T11:46:38.367522Z",
     "shell.execute_reply.started": "2022-04-26T11:43:33.818555Z"
    },
    "papermill": {
     "duration": 0.045747,
     "end_time": "2022-04-26T11:46:38.368136",
     "exception": false,
     "start_time": "2022-04-26T11:46:38.322389",
     "status": "completed"
    },
    "tags": []
   },
   "outputs": [
    {
     "data": {
      "text/plain": [
       "react         0.136423\n",
       "native        0.090824\n",
       "component     0.079760\n",
       "typescript    0.077301\n",
       "angular       0.074059\n",
       "dtype: float64"
      ]
     },
     "execution_count": 12,
     "metadata": {},
     "output_type": "execute_result"
    }
   ],
   "source": [
    "s_corr.sort_values(ascending=False)[:5]"
   ]
  },
  {
   "cell_type": "code",
   "execution_count": 13,
   "metadata": {
    "execution": {
     "iopub.execute_input": "2022-04-26T11:46:38.442815Z",
     "iopub.status.busy": "2022-04-26T11:46:38.442046Z",
     "iopub.status.idle": "2022-04-26T11:46:38.449238Z",
     "shell.execute_reply": "2022-04-26T11:46:38.448719Z",
     "shell.execute_reply.started": "2022-04-26T11:43:37.561517Z"
    },
    "papermill": {
     "duration": 0.04527,
     "end_time": "2022-04-26T11:46:38.449342",
     "exception": false,
     "start_time": "2022-04-26T11:46:38.404072",
     "status": "completed"
    },
    "tags": []
   },
   "outputs": [
    {
     "data": {
      "text/plain": [
       "i      -0.149011\n",
       "help   -0.134032\n",
       "sql    -0.127306\n",
       "this   -0.102543\n",
       "my     -0.092369\n",
       "dtype: float64"
      ]
     },
     "execution_count": 13,
     "metadata": {},
     "output_type": "execute_result"
    }
   ],
   "source": [
    "s_corr.sort_values(ascending=True)[:5]"
   ]
  },
  {
   "cell_type": "markdown",
   "metadata": {
    "papermill": {
     "duration": 0.03538,
     "end_time": "2022-04-26T11:46:38.519912",
     "exception": false,
     "start_time": "2022-04-26T11:46:38.484532",
     "status": "completed"
    },
    "tags": []
   },
   "source": [
    "# **Model Settings**"
   ]
  },
  {
   "cell_type": "code",
   "execution_count": 14,
   "metadata": {
    "execution": {
     "iopub.execute_input": "2022-04-26T11:46:38.591283Z",
     "iopub.status.busy": "2022-04-26T11:46:38.590710Z",
     "iopub.status.idle": "2022-04-26T11:46:38.594673Z",
     "shell.execute_reply": "2022-04-26T11:46:38.594234Z",
     "shell.execute_reply.started": "2021-12-14T11:21:15.019546Z"
    },
    "papermill": {
     "duration": 0.041146,
     "end_time": "2022-04-26T11:46:38.594771",
     "exception": false,
     "start_time": "2022-04-26T11:46:38.553625",
     "status": "completed"
    },
    "tags": []
   },
   "outputs": [],
   "source": [
    "EPOCHS = 15\n",
    "BATCH_SIZE = 24\n",
    "#MAX_LEN = 192"
   ]
  },
  {
   "cell_type": "markdown",
   "metadata": {
    "papermill": {
     "duration": 0.033304,
     "end_time": "2022-04-26T11:46:38.662556",
     "exception": false,
     "start_time": "2022-04-26T11:46:38.629252",
     "status": "completed"
    },
    "tags": []
   },
   "source": [
    "# **Encode Target Variable to Binary Categorical**"
   ]
  },
  {
   "cell_type": "code",
   "execution_count": 15,
   "metadata": {
    "execution": {
     "iopub.execute_input": "2022-04-26T11:46:38.755421Z",
     "iopub.status.busy": "2022-04-26T11:46:38.754607Z",
     "iopub.status.idle": "2022-04-26T11:46:38.758478Z",
     "shell.execute_reply": "2022-04-26T11:46:38.758057Z",
     "shell.execute_reply.started": "2021-12-14T11:21:15.030241Z"
    },
    "papermill": {
     "duration": 0.062375,
     "end_time": "2022-04-26T11:46:38.758577",
     "exception": false,
     "start_time": "2022-04-26T11:46:38.696202",
     "status": "completed"
    },
    "tags": []
   },
   "outputs": [],
   "source": [
    "encoder = LabelEncoder()\n",
    "encoder.fit(train.Y.values)\n",
    "encoded_Y_train = encoder.transform(train.Y.values)\n",
    "encoded_Y_valid = encoder.transform(validation.Y.values)\n",
    "\n",
    "\n",
    "x_train = train.Text.values\n",
    "x_valid = validation.Text.values\n",
    "\n",
    "\n",
    "y_train = np_utils.to_categorical(encoded_Y_train)\n",
    "y_valid = np_utils.to_categorical(encoded_Y_valid)"
   ]
  },
  {
   "cell_type": "markdown",
   "metadata": {
    "papermill": {
     "duration": 0.03317,
     "end_time": "2022-04-26T11:46:38.825263",
     "exception": false,
     "start_time": "2022-04-26T11:46:38.792093",
     "status": "completed"
    },
    "tags": []
   },
   "source": [
    "# **Tokenize Words and Pad Max Sequences**"
   ]
  },
  {
   "cell_type": "code",
   "execution_count": 16,
   "metadata": {
    "execution": {
     "iopub.execute_input": "2022-04-26T11:46:38.927156Z",
     "iopub.status.busy": "2022-04-26T11:46:38.917857Z",
     "iopub.status.idle": "2022-04-26T11:46:44.127755Z",
     "shell.execute_reply": "2022-04-26T11:46:44.126791Z",
     "shell.execute_reply.started": "2021-12-14T11:21:15.07722Z"
    },
    "papermill": {
     "duration": 5.268774,
     "end_time": "2022-04-26T11:46:44.128444",
     "exception": false,
     "start_time": "2022-04-26T11:46:38.859670",
     "status": "completed"
    },
    "tags": []
   },
   "outputs": [],
   "source": [
    "tokens=text.Tokenizer(num_words=MAX_FEATURES, lower=True)\n",
    "tokens.fit_on_texts(list(x_train))"
   ]
  },
  {
   "cell_type": "code",
   "execution_count": 17,
   "metadata": {
    "execution": {
     "iopub.execute_input": "2022-04-26T11:46:44.323872Z",
     "iopub.status.busy": "2022-04-26T11:46:44.288187Z",
     "iopub.status.idle": "2022-04-26T11:46:51.911733Z",
     "shell.execute_reply": "2022-04-26T11:46:51.910916Z",
     "shell.execute_reply.started": "2021-12-14T11:21:19.953687Z"
    },
    "papermill": {
     "duration": 7.714271,
     "end_time": "2022-04-26T11:46:51.911861",
     "exception": false,
     "start_time": "2022-04-26T11:46:44.197590",
     "status": "completed"
    },
    "tags": []
   },
   "outputs": [],
   "source": [
    "x_train=tokens.texts_to_sequences(x_train)\n",
    "x_valid=tokens.texts_to_sequences(x_valid)\n",
    "\n",
    "\n",
    "x_train = tf.keras.preprocessing.sequence.pad_sequences(x_train, maxlen=MAX_LEN)\n",
    "x_valid = tf.keras.preprocessing.sequence.pad_sequences(x_valid, maxlen=MAX_LEN)"
   ]
  },
  {
   "cell_type": "markdown",
   "metadata": {
    "papermill": {
     "duration": 0.033347,
     "end_time": "2022-04-26T11:46:51.978985",
     "exception": false,
     "start_time": "2022-04-26T11:46:51.945638",
     "status": "completed"
    },
    "tags": []
   },
   "source": [
    "# **Model**"
   ]
  },
  {
   "cell_type": "markdown",
   "metadata": {
    "papermill": {
     "duration": 0.034292,
     "end_time": "2022-04-26T11:46:52.047141",
     "exception": false,
     "start_time": "2022-04-26T11:46:52.012849",
     "status": "completed"
    },
    "tags": []
   },
   "source": [
    "# **LSTM MODEL**\n"
   ]
  },
  {
   "cell_type": "code",
   "execution_count": 18,
   "metadata": {
    "execution": {
     "iopub.execute_input": "2022-04-26T11:46:52.121804Z",
     "iopub.status.busy": "2022-04-26T11:46:52.121296Z",
     "iopub.status.idle": "2022-04-26T11:46:53.377463Z",
     "shell.execute_reply": "2022-04-26T11:46:53.376971Z",
     "shell.execute_reply.started": "2021-12-14T11:21:27.36121Z"
    },
    "papermill": {
     "duration": 1.296804,
     "end_time": "2022-04-26T11:46:53.377571",
     "exception": false,
     "start_time": "2022-04-26T11:46:52.080767",
     "status": "completed"
    },
    "tags": []
   },
   "outputs": [
    {
     "name": "stdout",
     "output_type": "stream",
     "text": [
      "Model: \"functional_1\"\n",
      "_________________________________________________________________\n",
      "Layer (type)                 Output Shape              Param #   \n",
      "=================================================================\n",
      "input_1 (InputLayer)         [(None, None)]            0         \n",
      "_________________________________________________________________\n",
      "embedding (Embedding)        (None, None, 128)         2560000   \n",
      "_________________________________________________________________\n",
      "bidirectional (Bidirectional (None, None, 128)         98816     \n",
      "_________________________________________________________________\n",
      "bidirectional_1 (Bidirection (None, 128)               98816     \n",
      "_________________________________________________________________\n",
      "dense (Dense)                (None, 32)                4128      \n",
      "_________________________________________________________________\n",
      "dropout (Dropout)            (None, 32)                0         \n",
      "_________________________________________________________________\n",
      "dense_1 (Dense)              (None, 3)                 99        \n",
      "=================================================================\n",
      "Total params: 2,761,859\n",
      "Trainable params: 2,761,859\n",
      "Non-trainable params: 0\n",
      "_________________________________________________________________\n"
     ]
    }
   ],
   "source": [
    "inputs = tf.keras.Input(shape=(None,), dtype=\"int32\")\n",
    "x = layers.Embedding(MAX_FEATURES, 128)(inputs)\n",
    "x = layers.Bidirectional(layers.LSTM(64, return_sequences=True))(x)\n",
    "x = layers.Bidirectional(layers.LSTM(64))(x)\n",
    "x = layers.Dense(32, activation='swish')(x)\n",
    "x = layers.Dropout(0.5)(x)\n",
    "outputs = layers.Dense(3, activation=\"softmax\")(x)\n",
    "model = tf.keras.Model(inputs, outputs)\n",
    "model.summary()"
   ]
  },
  {
   "cell_type": "markdown",
   "metadata": {
    "papermill": {
     "duration": 0.034413,
     "end_time": "2022-04-26T11:46:53.446640",
     "exception": false,
     "start_time": "2022-04-26T11:46:53.412227",
     "status": "completed"
    },
    "tags": []
   },
   "source": [
    "# **CNN MODEL**\n",
    "\n",
    "This is for demonstration only how to implement Text Classification in CNN."
   ]
  },
  {
   "cell_type": "code",
   "execution_count": 19,
   "metadata": {
    "execution": {
     "iopub.execute_input": "2022-04-26T11:46:53.524507Z",
     "iopub.status.busy": "2022-04-26T11:46:53.523664Z",
     "iopub.status.idle": "2022-04-26T11:46:53.902156Z",
     "shell.execute_reply": "2022-04-26T11:46:53.902708Z",
     "shell.execute_reply.started": "2021-12-14T11:21:28.683932Z"
    },
    "papermill": {
     "duration": 0.422243,
     "end_time": "2022-04-26T11:46:53.902897",
     "exception": false,
     "start_time": "2022-04-26T11:46:53.480654",
     "status": "completed"
    },
    "tags": []
   },
   "outputs": [
    {
     "name": "stdout",
     "output_type": "stream",
     "text": [
      "Model: \"functional_3\"\n",
      "__________________________________________________________________________________________________\n",
      "Layer (type)                    Output Shape         Param #     Connected to                     \n",
      "==================================================================================================\n",
      "input_2 (InputLayer)            [(None, None)]       0                                            \n",
      "__________________________________________________________________________________________________\n",
      "embedding_1 (Embedding)         (None, None, 128)    2560000     input_2[0][0]                    \n",
      "__________________________________________________________________________________________________\n",
      "bidirectional_2 (Bidirectional) (None, None, 256)    198144      embedding_1[0][0]                \n",
      "__________________________________________________________________________________________________\n",
      "conv1d (Conv1D)                 (None, None, 64)     49216       bidirectional_2[0][0]            \n",
      "__________________________________________________________________________________________________\n",
      "global_average_pooling1d (Globa (None, 64)           0           conv1d[0][0]                     \n",
      "__________________________________________________________________________________________________\n",
      "global_max_pooling1d (GlobalMax (None, 64)           0           conv1d[0][0]                     \n",
      "__________________________________________________________________________________________________\n",
      "concatenate (Concatenate)       (None, 128)          0           global_average_pooling1d[0][0]   \n",
      "                                                                 global_max_pooling1d[0][0]       \n",
      "__________________________________________________________________________________________________\n",
      "dense_2 (Dense)                 (None, 3)            387         concatenate[0][0]                \n",
      "==================================================================================================\n",
      "Total params: 2,807,747\n",
      "Trainable params: 2,807,747\n",
      "Non-trainable params: 0\n",
      "__________________________________________________________________________________________________\n"
     ]
    }
   ],
   "source": [
    "inputs_cnn = tf.keras.Input(shape=(None,), dtype=\"int32\")\n",
    "x_cnn = layers.Embedding(MAX_FEATURES, 128)(inputs_cnn)\n",
    "x_cnn = layers.Bidirectional(layers.GRU(128, return_sequences=True,dropout=0.1,recurrent_dropout=0.1))(x_cnn)\n",
    "x_cnn = layers.Conv1D(64, kernel_size = 3, padding = \"valid\", kernel_initializer = \"glorot_uniform\")(x_cnn)\n",
    "avg_pool = layers.GlobalAveragePooling1D()(x_cnn)\n",
    "max_pool = layers.GlobalMaxPooling1D()(x_cnn)\n",
    "x_cnn = layers.concatenate([avg_pool, max_pool])\n",
    "\n",
    "outputs_cnn = layers.Dense(3, activation=\"softmax\")(x_cnn)\n",
    "model_cnn = tf.keras.Model(inputs_cnn, outputs_cnn)\n",
    "model_cnn.summary()"
   ]
  },
  {
   "cell_type": "code",
   "execution_count": 20,
   "metadata": {
    "execution": {
     "iopub.execute_input": "2022-04-26T11:46:53.983623Z",
     "iopub.status.busy": "2022-04-26T11:46:53.981908Z",
     "iopub.status.idle": "2022-04-26T11:46:53.999635Z",
     "shell.execute_reply": "2022-04-26T11:46:53.999202Z",
     "shell.execute_reply.started": "2021-12-14T11:21:29.070441Z"
    },
    "papermill": {
     "duration": 0.060485,
     "end_time": "2022-04-26T11:46:53.999737",
     "exception": false,
     "start_time": "2022-04-26T11:46:53.939252",
     "status": "completed"
    },
    "tags": []
   },
   "outputs": [],
   "source": [
    "SGD=tf.keras.optimizers.SGD(learning_rate=0.01)\n",
    "Adam=tf.keras.optimizers.Adam(learning_rate=0.01)\n",
    "model.compile(loss='categorical_crossentropy',optimizer=SGD,metrics=[tf.keras.metrics.AUC()])\n",
    "#model.compile(loss='categorical_crossentropy',optimizer=Adam,metrics=[tf.keras.metrics.AUC()])"
   ]
  },
  {
   "cell_type": "markdown",
   "metadata": {
    "papermill": {
     "duration": 0.034231,
     "end_time": "2022-04-26T11:46:54.068509",
     "exception": false,
     "start_time": "2022-04-26T11:46:54.034278",
     "status": "completed"
    },
    "tags": []
   },
   "source": [
    "# **Train Model**"
   ]
  },
  {
   "cell_type": "markdown",
   "metadata": {
    "papermill": {
     "duration": 0.034602,
     "end_time": "2022-04-26T11:46:54.137627",
     "exception": false,
     "start_time": "2022-04-26T11:46:54.103025",
     "status": "completed"
    },
    "tags": []
   },
   "source": [
    "# **Callbacks**"
   ]
  },
  {
   "cell_type": "code",
   "execution_count": 21,
   "metadata": {
    "execution": {
     "iopub.execute_input": "2022-04-26T11:46:54.211906Z",
     "iopub.status.busy": "2022-04-26T11:46:54.211344Z",
     "iopub.status.idle": "2022-04-26T11:46:54.215244Z",
     "shell.execute_reply": "2022-04-26T11:46:54.214740Z",
     "shell.execute_reply.started": "2021-12-14T11:21:29.097494Z"
    },
    "papermill": {
     "duration": 0.043565,
     "end_time": "2022-04-26T11:46:54.215342",
     "exception": false,
     "start_time": "2022-04-26T11:46:54.171777",
     "status": "completed"
    },
    "tags": []
   },
   "outputs": [],
   "source": [
    "es_cb = EarlyStopping(monitor='val_acc', min_delta=0, restore_best_weights=True, patience=5, verbose=0, mode='auto')\n",
    "reduce_lr = ReduceLROnPlateau(monitor='val_acc', factor=0.2, patience=3, min_lr=0.001)\n",
    "#reduce_lr = ReduceLROnPlateau(monitor='val_loss', factor=0.2, patience=3, min_lr=0.01)"
   ]
  },
  {
   "cell_type": "code",
   "execution_count": 22,
   "metadata": {
    "execution": {
     "iopub.execute_input": "2022-04-26T11:46:54.289128Z",
     "iopub.status.busy": "2022-04-26T11:46:54.288469Z",
     "iopub.status.idle": "2022-04-26T11:46:54.293887Z",
     "shell.execute_reply": "2022-04-26T11:46:54.293410Z",
     "shell.execute_reply.started": "2021-12-14T11:21:29.105219Z"
    },
    "papermill": {
     "duration": 0.043912,
     "end_time": "2022-04-26T11:46:54.293989",
     "exception": false,
     "start_time": "2022-04-26T11:46:54.250077",
     "status": "completed"
    },
    "tags": []
   },
   "outputs": [
    {
     "data": {
      "text/plain": [
       "\"\\ncheckpoint_filepath = 'checkpoint'\\n\\nmodel_checkpoint_callback = tf.keras.callbacks.ModelCheckpoint(\\n    filepath=checkpoint_filepath,\\n    save_weights_only=True,\\n    monitor='val_accuracy',\\n    mode='max',\\n    save_best_only=True)\\n\""
      ]
     },
     "execution_count": 22,
     "metadata": {},
     "output_type": "execute_result"
    }
   ],
   "source": [
    "'''\n",
    "checkpoint_filepath = 'checkpoint'\n",
    "\n",
    "model_checkpoint_callback = tf.keras.callbacks.ModelCheckpoint(\n",
    "    filepath=checkpoint_filepath,\n",
    "    save_weights_only=True,\n",
    "    monitor='val_accuracy',\n",
    "    mode='max',\n",
    "    save_best_only=True)\n",
    "'''"
   ]
  },
  {
   "cell_type": "code",
   "execution_count": 23,
   "metadata": {
    "execution": {
     "iopub.execute_input": "2022-04-26T11:46:54.368033Z",
     "iopub.status.busy": "2022-04-26T11:46:54.367493Z",
     "iopub.status.idle": "2022-04-26T12:06:11.503126Z",
     "shell.execute_reply": "2022-04-26T12:06:11.503845Z",
     "shell.execute_reply.started": "2021-12-14T11:21:29.113571Z"
    },
    "papermill": {
     "duration": 1157.175584,
     "end_time": "2022-04-26T12:06:11.504048",
     "exception": false,
     "start_time": "2022-04-26T11:46:54.328464",
     "status": "completed"
    },
    "tags": []
   },
   "outputs": [
    {
     "name": "stdout",
     "output_type": "stream",
     "text": [
      "Epoch 1/15\n",
      "1875/1875 [==============================] - 75s 40ms/step - loss: 1.0940 - auc: 0.5721 - val_loss: 1.0826 - val_auc: 0.6956\n",
      "Epoch 2/15\n",
      "1875/1875 [==============================] - 74s 39ms/step - loss: 0.8052 - auc: 0.8108 - val_loss: 0.6129 - val_auc: 0.8793\n",
      "Epoch 3/15\n",
      "1875/1875 [==============================] - 76s 40ms/step - loss: 0.6297 - auc: 0.8710 - val_loss: 0.6619 - val_auc: 0.8732\n",
      "Epoch 4/15\n",
      "1875/1875 [==============================] - 75s 40ms/step - loss: 0.5969 - auc: 0.8885 - val_loss: 0.5573 - val_auc: 0.9101\n",
      "Epoch 5/15\n",
      "1875/1875 [==============================] - 76s 40ms/step - loss: 0.7262 - auc: 0.8447 - val_loss: 1.0201 - val_auc: 0.8104\n",
      "Epoch 6/15\n",
      "1875/1875 [==============================] - 77s 41ms/step - loss: 0.6764 - auc: 0.8597 - val_loss: 0.6147 - val_auc: 0.8858\n",
      "Epoch 7/15\n",
      "1875/1875 [==============================] - 77s 41ms/step - loss: 0.6345 - auc: 0.8807 - val_loss: 0.5728 - val_auc: 0.9045\n",
      "Epoch 8/15\n",
      "1875/1875 [==============================] - 77s 41ms/step - loss: 0.6470 - auc: 0.8785 - val_loss: 0.5165 - val_auc: 0.9296\n",
      "Epoch 9/15\n",
      "1875/1875 [==============================] - 77s 41ms/step - loss: 0.5853 - auc: 0.9028 - val_loss: 0.5867 - val_auc: 0.9136\n",
      "Epoch 10/15\n",
      "1875/1875 [==============================] - 77s 41ms/step - loss: 0.5465 - auc: 0.9170 - val_loss: 0.4766 - val_auc: 0.9383\n",
      "Epoch 11/15\n",
      "1875/1875 [==============================] - 77s 41ms/step - loss: 0.5065 - auc: 0.9293 - val_loss: 0.4524 - val_auc: 0.9451\n",
      "Epoch 12/15\n",
      "1875/1875 [==============================] - 77s 41ms/step - loss: 0.4910 - auc: 0.9339 - val_loss: 0.4792 - val_auc: 0.9375\n",
      "Epoch 13/15\n",
      "1875/1875 [==============================] - 78s 41ms/step - loss: 0.4861 - auc: 0.9356 - val_loss: 0.4914 - val_auc: 0.9371\n",
      "Epoch 14/15\n",
      "1875/1875 [==============================] - 77s 41ms/step - loss: 0.4763 - auc: 0.9383 - val_loss: 0.4490 - val_auc: 0.9450\n",
      "Epoch 15/15\n",
      "1875/1875 [==============================] - 77s 41ms/step - loss: 0.4627 - auc: 0.9416 - val_loss: 0.4331 - val_auc: 0.9492\n"
     ]
    }
   ],
   "source": [
    "history = model.fit(x_train, y_train, batch_size=BATCH_SIZE, epochs=EPOCHS, validation_data=(x_valid, y_valid),callbacks = [es_cb,reduce_lr], verbose=1)"
   ]
  },
  {
   "cell_type": "code",
   "execution_count": 24,
   "metadata": {
    "execution": {
     "iopub.execute_input": "2022-04-26T12:06:19.554793Z",
     "iopub.status.busy": "2022-04-26T12:06:19.552857Z",
     "iopub.status.idle": "2022-04-26T12:06:19.555499Z",
     "shell.execute_reply": "2022-04-26T12:06:19.555960Z",
     "shell.execute_reply.started": "2021-12-14T11:45:24.589448Z"
    },
    "papermill": {
     "duration": 3.995352,
     "end_time": "2022-04-26T12:06:19.556091",
     "exception": false,
     "start_time": "2022-04-26T12:06:15.560739",
     "status": "completed"
    },
    "tags": []
   },
   "outputs": [],
   "source": [
    "#model.load_weights(checkpoint_filepath)"
   ]
  },
  {
   "cell_type": "markdown",
   "metadata": {
    "papermill": {
     "duration": 4.044203,
     "end_time": "2022-04-26T12:06:27.881858",
     "exception": false,
     "start_time": "2022-04-26T12:06:23.837655",
     "status": "completed"
    },
    "tags": []
   },
   "source": [
    "# **Model Performance**"
   ]
  },
  {
   "cell_type": "code",
   "execution_count": 25,
   "metadata": {
    "execution": {
     "iopub.execute_input": "2022-04-26T12:06:36.161592Z",
     "iopub.status.busy": "2022-04-26T12:06:36.160649Z",
     "iopub.status.idle": "2022-04-26T12:06:36.300714Z",
     "shell.execute_reply": "2022-04-26T12:06:36.301157Z"
    },
    "papermill": {
     "duration": 4.413728,
     "end_time": "2022-04-26T12:06:36.301289",
     "exception": false,
     "start_time": "2022-04-26T12:06:31.887561",
     "status": "completed"
    },
    "tags": []
   },
   "outputs": [
    {
     "data": {
      "text/plain": [
       "[<matplotlib.lines.Line2D at 0x7f7df0e9a3d0>]"
      ]
     },
     "execution_count": 25,
     "metadata": {},
     "output_type": "execute_result"
    },
    {
     "data": {
      "image/png": "[encoded data removed]",
      "text/plain": [
       "<Figure size 576x396 with 1 Axes>"
      ]
     },
     "metadata": {},
     "output_type": "display_data"
    }
   ],
   "source": [
    "plt.plot(history.history['auc'])\n",
    "plt.plot(history.history['val_auc'])"
   ]
  },
  {
   "cell_type": "code",
   "execution_count": 26,
   "metadata": {
    "execution": {
     "iopub.execute_input": "2022-04-26T12:06:45.283591Z",
     "iopub.status.busy": "2022-04-26T12:06:45.282634Z",
     "iopub.status.idle": "2022-04-26T12:06:45.438717Z",
     "shell.execute_reply": "2022-04-26T12:06:45.439272Z"
    },
    "papermill": {
     "duration": 5.073214,
     "end_time": "2022-04-26T12:06:45.439437",
     "exception": false,
     "start_time": "2022-04-26T12:06:40.366223",
     "status": "completed"
    },
    "tags": []
   },
   "outputs": [
    {
     "data": {
      "text/plain": [
       "[<matplotlib.lines.Line2D at 0x7f7df0e03bd0>]"
      ]
     },
     "execution_count": 26,
     "metadata": {},
     "output_type": "execute_result"
    },
    {
     "data": {
      "image/png": "[encoded data removed]",
      "text/plain": [
       "<Figure size 576x396 with 1 Axes>"
      ]
     },
     "metadata": {},
     "output_type": "display_data"
    }
   ],
   "source": [
    "plt.plot(history.history['loss'])\n",
    "plt.plot(history.history['val_loss'])"
   ]
  },
  {
   "cell_type": "markdown",
   "metadata": {
    "papermill": {
     "duration": 4.026201,
     "end_time": "2022-04-26T12:06:53.577646",
     "exception": false,
     "start_time": "2022-04-26T12:06:49.551445",
     "status": "completed"
    },
    "tags": []
   },
   "source": [
    "# **Testing Model**\n",
    "\n",
    "A random question from https://stackoverflow.com/questions/tagged/java"
   ]
  },
  {
   "cell_type": "code",
   "execution_count": 27,
   "metadata": {
    "execution": {
     "iopub.execute_input": "2022-04-26T12:07:01.841236Z",
     "iopub.status.busy": "2022-04-26T12:07:01.840360Z",
     "iopub.status.idle": "2022-04-26T12:07:01.842376Z",
     "shell.execute_reply": "2022-04-26T12:07:01.842748Z"
    },
    "papermill": {
     "duration": 3.981941,
     "end_time": "2022-04-26T12:07:01.842895",
     "exception": false,
     "start_time": "2022-04-26T12:06:57.860954",
     "status": "completed"
    },
    "tags": []
   },
   "outputs": [],
   "source": [
    "#test_question = ['I have sql server management studio 14.0.17825.0 and would like to use group_concat function. But I get error when i try to use. The error is invalid column name group_concat Is there any other function that I could use? Could you provide a sample code which could achieve what function group_concat?']\n",
    "test_question  = ['If I have an object implementing the Map interface in Java and I wish to iterate over every pair contained within it, what is the most efficient way of going through the map? Will the ordering of elements depend on the specific map implementation that I have for the interface?']"
   ]
  },
  {
   "cell_type": "code",
   "execution_count": 28,
   "metadata": {
    "execution": {
     "iopub.execute_input": "2022-04-26T12:07:10.147919Z",
     "iopub.status.busy": "2022-04-26T12:07:10.147083Z",
     "iopub.status.idle": "2022-04-26T12:07:11.294917Z",
     "shell.execute_reply": "2022-04-26T12:07:11.294417Z"
    },
    "papermill": {
     "duration": 5.18672,
     "end_time": "2022-04-26T12:07:11.295037",
     "exception": false,
     "start_time": "2022-04-26T12:07:06.108317",
     "status": "completed"
    },
    "tags": []
   },
   "outputs": [],
   "source": [
    "seq = tokenizer.texts_to_sequences(test_question)\n",
    "padded = tf.keras.preprocessing.sequence.pad_sequences(seq, maxlen=MAX_LEN)\n",
    "pred = model.predict(padded)"
   ]
  },
  {
   "cell_type": "code",
   "execution_count": 29,
   "metadata": {
    "execution": {
     "iopub.execute_input": "2022-04-26T12:07:20.129013Z",
     "iopub.status.busy": "2022-04-26T12:07:20.126576Z",
     "iopub.status.idle": "2022-04-26T12:07:20.131352Z",
     "shell.execute_reply": "2022-04-26T12:07:20.130900Z"
    },
    "papermill": {
     "duration": 4.308139,
     "end_time": "2022-04-26T12:07:20.131456",
     "exception": false,
     "start_time": "2022-04-26T12:07:15.823317",
     "status": "completed"
    },
    "tags": []
   },
   "outputs": [
    {
     "name": "stdout",
     "output_type": "stream",
     "text": [
      "1 LQ_CLOSE\n"
     ]
    }
   ],
   "source": [
    "labels=list(encoder.classes_)\n",
    "print(np.argmax(pred), labels[np.argmax(pred)])"
   ]
  },
  {
   "cell_type": "markdown",
   "metadata": {
    "papermill": {
     "duration": 4.281383,
     "end_time": "2022-04-26T12:07:28.481535",
     "exception": false,
     "start_time": "2022-04-26T12:07:24.200152",
     "status": "completed"
    },
    "tags": []
   },
   "source": [
    "# **Prediction Test**\n",
    "\n",
    "This part is to show how to use prediction and classificaion report. In normal cases, it's not right to use validation data for this purpose. We need another dataset that model never seen before.\n"
   ]
  },
  {
   "cell_type": "code",
   "execution_count": 30,
   "metadata": {
    "execution": {
     "iopub.execute_input": "2022-04-26T12:07:36.498175Z",
     "iopub.status.busy": "2022-04-26T12:07:36.497336Z",
     "iopub.status.idle": "2022-04-26T12:07:42.639738Z",
     "shell.execute_reply": "2022-04-26T12:07:42.639220Z"
    },
    "papermill": {
     "duration": 10.11749,
     "end_time": "2022-04-26T12:07:42.639872",
     "exception": false,
     "start_time": "2022-04-26T12:07:32.522382",
     "status": "completed"
    },
    "tags": []
   },
   "outputs": [],
   "source": [
    "y_pred=model.predict(x_valid)\n",
    "y_pred=np.argmax(y_pred,axis=1)"
   ]
  },
  {
   "cell_type": "code",
   "execution_count": 31,
   "metadata": {
    "execution": {
     "iopub.execute_input": "2022-04-26T12:07:51.564742Z",
     "iopub.status.busy": "2022-04-26T12:07:51.563494Z",
     "iopub.status.idle": "2022-04-26T12:07:51.566673Z",
     "shell.execute_reply": "2022-04-26T12:07:51.566209Z"
    },
    "papermill": {
     "duration": 4.851962,
     "end_time": "2022-04-26T12:07:51.566767",
     "exception": false,
     "start_time": "2022-04-26T12:07:46.714805",
     "status": "completed"
    },
    "tags": []
   },
   "outputs": [],
   "source": [
    "y_true=np.argmax(y_valid,axis=1)"
   ]
  },
  {
   "cell_type": "code",
   "execution_count": 32,
   "metadata": {
    "execution": {
     "iopub.execute_input": "2022-04-26T12:07:59.563854Z",
     "iopub.status.busy": "2022-04-26T12:07:59.562986Z",
     "iopub.status.idle": "2022-04-26T12:07:59.589338Z",
     "shell.execute_reply": "2022-04-26T12:07:59.590052Z"
    },
    "papermill": {
     "duration": 4.031023,
     "end_time": "2022-04-26T12:07:59.590228",
     "exception": false,
     "start_time": "2022-04-26T12:07:55.559205",
     "status": "completed"
    },
    "tags": []
   },
   "outputs": [
    {
     "name": "stdout",
     "output_type": "stream",
     "text": [
      "              precision    recall  f1-score   support\n",
      "\n",
      "          HQ       0.78      0.78      0.78      5000\n",
      "    LQ_CLOSE       0.73      0.77      0.75      5000\n",
      "     LQ_EDIT       0.98      0.92      0.95      5000\n",
      "\n",
      "    accuracy                           0.82     15000\n",
      "   macro avg       0.83      0.82      0.83     15000\n",
      "weighted avg       0.83      0.82      0.83     15000\n",
      "\n"
     ]
    }
   ],
   "source": [
    "target_names = list(encoder.classes_)\n",
    "\n",
    "print(classification_report(y_true, y_pred, target_names=target_names))"
   ]
  },
  {
   "cell_type": "markdown",
   "metadata": {
    "papermill": {
     "duration": 3.996698,
     "end_time": "2022-04-26T12:08:07.865037",
     "exception": false,
     "start_time": "2022-04-26T12:08:03.868339",
     "status": "completed"
    },
    "tags": []
   },
   "source": []
  },
  {
   "cell_type": "markdown",
   "metadata": {
    "papermill": {
     "duration": 3.982954,
     "end_time": "2022-04-26T12:08:16.133603",
     "exception": false,
     "start_time": "2022-04-26T12:08:12.150649",
     "status": "completed"
    },
    "tags": []
   },
   "source": []
  }
 ],
 "metadata": {
  "kernelspec": {
   "display_name": "Python 3",
   "language": "python",
   "name": "python3"
  },
  "language_info": {
   "codemirror_mode": {
    "name": "ipython",
    "version": 3
   },
   "file_extension": ".py",
   "mimetype": "text/x-python",
   "name": "python",
   "nbconvert_exporter": "python",
   "pygments_lexer": "ipython3",
   "version": "3.7.6"
  },
  "papermill": {
   "duration": 1395.146054,
   "end_time": "2022-04-26T12:08:21.558083",
   "environment_variables": {},
   "exception": null,
   "input_path": "__notebook__.ipynb",
   "output_path": "__notebook__.ipynb",
   "parameters": {},
   "start_time": "2022-04-26T11:45:06.412029",
   "version": "2.1.0"
  }
 },
 "nbformat": 4,
 "nbformat_minor": 4
}
